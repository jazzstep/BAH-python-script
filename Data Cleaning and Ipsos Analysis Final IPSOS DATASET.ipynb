{
 "cells": [
  {
   "cell_type": "code",
   "execution_count": 1,
   "metadata": {},
   "outputs": [],
   "source": [
    "import numpy as np\n",
    "import pandas as pd\n",
    "import scipy.stats as stats\n",
    "import statsmodels.api as sm\n",
    "import matplotlib.pyplot as plt\n",
    "import pyreadstat"
   ]
  },
  {
   "cell_type": "code",
   "execution_count": 2,
   "metadata": {},
   "outputs": [
    {
     "data": {
      "text/html": [
       "<div>\n",
       "<style scoped>\n",
       "    .dataframe tbody tr th:only-of-type {\n",
       "        vertical-align: middle;\n",
       "    }\n",
       "\n",
       "    .dataframe tbody tr th {\n",
       "        vertical-align: top;\n",
       "    }\n",
       "\n",
       "    .dataframe thead th {\n",
       "        text-align: right;\n",
       "    }\n",
       "</style>\n",
       "<table border=\"1\" class=\"dataframe\">\n",
       "  <thead>\n",
       "    <tr style=\"text-align: right;\">\n",
       "      <th></th>\n",
       "      <th>q15</th>\n",
       "      <th>Q16</th>\n",
       "      <th>Q17</th>\n",
       "      <th>q19</th>\n",
       "      <th>q20</th>\n",
       "    </tr>\n",
       "  </thead>\n",
       "  <tbody>\n",
       "    <tr>\n",
       "      <th>count</th>\n",
       "      <td>565.000000</td>\n",
       "      <td>418.000000</td>\n",
       "      <td>420.000000</td>\n",
       "      <td>565.000000</td>\n",
       "      <td>565.000000</td>\n",
       "    </tr>\n",
       "    <tr>\n",
       "      <th>mean</th>\n",
       "      <td>1.244248</td>\n",
       "      <td>5.674641</td>\n",
       "      <td>2.766667</td>\n",
       "      <td>1.371681</td>\n",
       "      <td>1.490265</td>\n",
       "    </tr>\n",
       "    <tr>\n",
       "      <th>std</th>\n",
       "      <td>0.457975</td>\n",
       "      <td>10.172110</td>\n",
       "      <td>3.284132</td>\n",
       "      <td>0.535854</td>\n",
       "      <td>0.631890</td>\n",
       "    </tr>\n",
       "    <tr>\n",
       "      <th>min</th>\n",
       "      <td>1.000000</td>\n",
       "      <td>0.000000</td>\n",
       "      <td>0.000000</td>\n",
       "      <td>1.000000</td>\n",
       "      <td>1.000000</td>\n",
       "    </tr>\n",
       "    <tr>\n",
       "      <th>25%</th>\n",
       "      <td>1.000000</td>\n",
       "      <td>1.000000</td>\n",
       "      <td>1.000000</td>\n",
       "      <td>1.000000</td>\n",
       "      <td>1.000000</td>\n",
       "    </tr>\n",
       "    <tr>\n",
       "      <th>50%</th>\n",
       "      <td>1.000000</td>\n",
       "      <td>3.000000</td>\n",
       "      <td>2.000000</td>\n",
       "      <td>1.000000</td>\n",
       "      <td>1.000000</td>\n",
       "    </tr>\n",
       "    <tr>\n",
       "      <th>75%</th>\n",
       "      <td>1.000000</td>\n",
       "      <td>5.750000</td>\n",
       "      <td>4.000000</td>\n",
       "      <td>2.000000</td>\n",
       "      <td>2.000000</td>\n",
       "    </tr>\n",
       "    <tr>\n",
       "      <th>max</th>\n",
       "      <td>4.000000</td>\n",
       "      <td>100.000000</td>\n",
       "      <td>25.000000</td>\n",
       "      <td>3.000000</td>\n",
       "      <td>3.000000</td>\n",
       "    </tr>\n",
       "  </tbody>\n",
       "</table>\n",
       "</div>"
      ],
      "text/plain": [
       "              q15         Q16         Q17         q19         q20\n",
       "count  565.000000  418.000000  420.000000  565.000000  565.000000\n",
       "mean     1.244248    5.674641    2.766667    1.371681    1.490265\n",
       "std      0.457975   10.172110    3.284132    0.535854    0.631890\n",
       "min      1.000000    0.000000    0.000000    1.000000    1.000000\n",
       "25%      1.000000    1.000000    1.000000    1.000000    1.000000\n",
       "50%      1.000000    3.000000    2.000000    1.000000    1.000000\n",
       "75%      1.000000    5.750000    4.000000    2.000000    2.000000\n",
       "max      4.000000  100.000000   25.000000    3.000000    3.000000"
      ]
     },
     "execution_count": 2,
     "metadata": {},
     "output_type": "execute_result"
    }
   ],
   "source": [
    "#Read in SAS data\n",
    "nh_data, meta = pyreadstat.read_sav(\"CMS IEC Nursing Home Survey Wave 1 Data 05.30.19_For Jazz_final.sav\")\n",
    "clean_nh_data, meta = pyreadstat.read_sav(\"CMS IEC Nursing Home Survey Wave 1 Data 05.30.19_For Jazz_final.sav\")\n",
    "# nh_sas = './nursing_home_file_wave_1_final.sas7bdat'\n",
    "# nh_data = pd.read_sas(nh_sas, format='sas7bdat')\n",
    "# clean_nh_data = pd.read_sas(nh_sas, format='sas7bdat')\n",
    "clean_nh_data[['q15', 'Q16', 'Q17', 'q19', 'q20']].describe()"
   ]
  },
  {
   "cell_type": "code",
   "execution_count": 3,
   "metadata": {},
   "outputs": [],
   "source": [
    "#Find numeric variables\n",
    "num_col_names = nh_data.loc[:, nh_data.dtypes == float].columns.values"
   ]
  },
  {
   "cell_type": "code",
   "execution_count": 4,
   "metadata": {},
   "outputs": [],
   "source": [
    "#Column names of outcome variables\n",
    "outcome_col_names = ['q15', 'Q16', 'Q17', 'q19', 'q20'] \n",
    "#q18 will be processed separately"
   ]
  },
  {
   "cell_type": "markdown",
   "metadata": {},
   "source": [
    "# Engagement Indicator Outcome Variables Data Cleaning"
   ]
  },
  {
   "cell_type": "markdown",
   "metadata": {},
   "source": [
    "### Clean Binary Outcome Variables"
   ]
  },
  {
   "cell_type": "code",
   "execution_count": 5,
   "metadata": {},
   "outputs": [],
   "source": [
    "#Set response value 3 (don't know) and value 4 (refused to answer) as NaN\n",
    "bin_outcome_cols = ['q15','q19','q20']\n",
    "clean_nh_data[bin_outcome_cols]=clean_nh_data[bin_outcome_cols].replace(3,0)\n",
    "clean_nh_data[bin_outcome_cols]=clean_nh_data[bin_outcome_cols].replace(4,0)\n",
    "\n",
    "#Set value 2 (no) to 0\n",
    "clean_nh_data[bin_outcome_cols]=clean_nh_data[bin_outcome_cols].replace(2,0)"
   ]
  },
  {
   "cell_type": "markdown",
   "metadata": {},
   "source": [
    "### Clean Q15 (*q14*)"
   ]
  },
  {
   "cell_type": "code",
   "execution_count": null,
   "metadata": {},
   "outputs": [],
   "source": []
  },
  {
   "cell_type": "markdown",
   "metadata": {},
   "source": [
    "### Clean Q17 (*q16*) and Q18 (*q17*)"
   ]
  },
  {
   "cell_type": "code",
   "execution_count": 6,
   "metadata": {},
   "outputs": [],
   "source": [
    "#set 99/100 don't know/refused to NaN\n",
    "clean_nh_data.loc[clean_nh_data['Q16']<0, 'Q16'] = np.nan\n",
    "clean_nh_data.loc[clean_nh_data['Q16']>97, 'Q16'] = np.nan\n",
    "clean_nh_data.loc[clean_nh_data['Q17']<0, 'Q17'] = np.nan"
   ]
  },
  {
   "cell_type": "code",
   "execution_count": 7,
   "metadata": {},
   "outputs": [
    {
     "data": {
      "text/plain": [
       "3.0"
      ]
     },
     "execution_count": 7,
     "metadata": {},
     "output_type": "execute_result"
    }
   ],
   "source": [
    "clean_nh_data['Q16'].median()\n",
    "#median is 3, mean is 5.2\n",
    "#plt.hist(clean_nh_data.Q16.dropna(),bins=20)"
   ]
  },
  {
   "cell_type": "code",
   "execution_count": 8,
   "metadata": {},
   "outputs": [
    {
     "data": {
      "text/plain": [
       "2.0"
      ]
     },
     "execution_count": 8,
     "metadata": {},
     "output_type": "execute_result"
    }
   ],
   "source": [
    "clean_nh_data['Q17'].median()\n",
    "#median is 2, mean is 2.7\n",
    "#plt.hist(clean_nh_data.Q17.dropna(),bins=20)"
   ]
  },
  {
   "cell_type": "code",
   "execution_count": 9,
   "metadata": {},
   "outputs": [],
   "source": [
    "#set new binary column, less than median/median or greater\n",
    "#clean_nh_data['Q16_m'] = np.where(clean_nh_data['Q16'] >= 3,0,1)\n",
    "#clean_nh_data.loc[clean_nh_data['Q16'].isna(), 'Q16_m'] = np.nan\n",
    "\n",
    "\n",
    "clean_nh_data['Q16_a'] = np.where(clean_nh_data['Q16'] >= 2,1,0)\n",
    "clean_nh_data.loc[clean_nh_data['Q16'].isna(), 'Q16_a'] = np.nan"
   ]
  },
  {
   "cell_type": "code",
   "execution_count": 10,
   "metadata": {},
   "outputs": [],
   "source": [
    "#clean_nh_data['Q17_m'] = np.where(clean_nh_data['Q17'] >= 2,0,1)\n",
    "#clean_nh_data.loc[clean_nh_data['Q17'].isna(), 'Q17_m'] = np.nan\n",
    "\n",
    "clean_nh_data['Q17_a'] = np.where(clean_nh_data['Q17'] >= 2,1,0)\n",
    "clean_nh_data.loc[clean_nh_data['Q17'].isna(), 'Q17_a'] = np.nan"
   ]
  },
  {
   "cell_type": "code",
   "execution_count": 11,
   "metadata": {},
   "outputs": [],
   "source": [
    "#Add Q16_m and Q17_m to outcome_col_names list\n",
    "outcome_col_names.remove('Q16')\n",
    "outcome_col_names.remove('Q17')\n",
    "outcome_col_names.append('Q16_a')\n",
    "outcome_col_names.append('Q17_a')"
   ]
  },
  {
   "cell_type": "markdown",
   "metadata": {},
   "source": [
    "### Q19 (*q18*) Summation\n",
    "Activities and Resources Provided by QIN-QIO"
   ]
  },
  {
   "cell_type": "code",
   "execution_count": 12,
   "metadata": {},
   "outputs": [
    {
     "data": {
      "text/plain": [
       "['Q18_01',\n",
       " 'Q18_02',\n",
       " 'Q18_03',\n",
       " 'Q18_04',\n",
       " 'Q18_05',\n",
       " 'Q18_06',\n",
       " 'Q18_07',\n",
       " 'Q18_08',\n",
       " 'Q18_09',\n",
       " 'Q18_10',\n",
       " 'Q18_11',\n",
       " 'Q18_12',\n",
       " 'Q18_13',\n",
       " 'Q18_19',\n",
       " 'Q18_20']"
      ]
     },
     "execution_count": 12,
     "metadata": {},
     "output_type": "execute_result"
    }
   ],
   "source": [
    "#get column names for Q19 variables\n",
    "q19_col_names = [s for s in num_col_names if 'Q18' in s]\n",
    "q19_col_names"
   ]
  },
  {
   "cell_type": "code",
   "execution_count": 13,
   "metadata": {},
   "outputs": [
    {
     "data": {
      "text/html": [
       "<div>\n",
       "<style scoped>\n",
       "    .dataframe tbody tr th:only-of-type {\n",
       "        vertical-align: middle;\n",
       "    }\n",
       "\n",
       "    .dataframe tbody tr th {\n",
       "        vertical-align: top;\n",
       "    }\n",
       "\n",
       "    .dataframe thead th {\n",
       "        text-align: right;\n",
       "    }\n",
       "</style>\n",
       "<table border=\"1\" class=\"dataframe\">\n",
       "  <thead>\n",
       "    <tr style=\"text-align: right;\">\n",
       "      <th></th>\n",
       "      <th>Q18_01</th>\n",
       "      <th>Q18_02</th>\n",
       "      <th>Q18_03</th>\n",
       "      <th>Q18_04</th>\n",
       "      <th>Q18_05</th>\n",
       "      <th>Q18_06</th>\n",
       "      <th>Q18_07</th>\n",
       "      <th>Q18_08</th>\n",
       "      <th>Q18_09</th>\n",
       "      <th>Q18_10</th>\n",
       "      <th>Q18_11</th>\n",
       "      <th>Q18_12</th>\n",
       "      <th>Q18_13</th>\n",
       "      <th>Q18_19</th>\n",
       "      <th>Q18_20</th>\n",
       "    </tr>\n",
       "  </thead>\n",
       "  <tbody>\n",
       "    <tr>\n",
       "      <th>count</th>\n",
       "      <td>565.00000</td>\n",
       "      <td>565.000000</td>\n",
       "      <td>565.000000</td>\n",
       "      <td>565.000000</td>\n",
       "      <td>565.000000</td>\n",
       "      <td>565.000000</td>\n",
       "      <td>565.000000</td>\n",
       "      <td>565.000000</td>\n",
       "      <td>565.000000</td>\n",
       "      <td>565.000000</td>\n",
       "      <td>565.000000</td>\n",
       "      <td>565.000000</td>\n",
       "      <td>565.000000</td>\n",
       "      <td>565.000000</td>\n",
       "      <td>565.000000</td>\n",
       "    </tr>\n",
       "    <tr>\n",
       "      <th>mean</th>\n",
       "      <td>0.60885</td>\n",
       "      <td>0.851327</td>\n",
       "      <td>0.920354</td>\n",
       "      <td>0.543363</td>\n",
       "      <td>0.817699</td>\n",
       "      <td>0.727434</td>\n",
       "      <td>0.681416</td>\n",
       "      <td>0.761062</td>\n",
       "      <td>0.561062</td>\n",
       "      <td>0.543363</td>\n",
       "      <td>0.392920</td>\n",
       "      <td>0.704425</td>\n",
       "      <td>0.837168</td>\n",
       "      <td>0.015929</td>\n",
       "      <td>0.019469</td>\n",
       "    </tr>\n",
       "    <tr>\n",
       "      <th>std</th>\n",
       "      <td>0.48844</td>\n",
       "      <td>0.356081</td>\n",
       "      <td>0.270984</td>\n",
       "      <td>0.498558</td>\n",
       "      <td>0.386434</td>\n",
       "      <td>0.445674</td>\n",
       "      <td>0.466340</td>\n",
       "      <td>0.426813</td>\n",
       "      <td>0.496697</td>\n",
       "      <td>0.498558</td>\n",
       "      <td>0.488832</td>\n",
       "      <td>0.456705</td>\n",
       "      <td>0.369539</td>\n",
       "      <td>0.125313</td>\n",
       "      <td>0.138289</td>\n",
       "    </tr>\n",
       "    <tr>\n",
       "      <th>min</th>\n",
       "      <td>0.00000</td>\n",
       "      <td>0.000000</td>\n",
       "      <td>0.000000</td>\n",
       "      <td>0.000000</td>\n",
       "      <td>0.000000</td>\n",
       "      <td>0.000000</td>\n",
       "      <td>0.000000</td>\n",
       "      <td>0.000000</td>\n",
       "      <td>0.000000</td>\n",
       "      <td>0.000000</td>\n",
       "      <td>0.000000</td>\n",
       "      <td>0.000000</td>\n",
       "      <td>0.000000</td>\n",
       "      <td>0.000000</td>\n",
       "      <td>0.000000</td>\n",
       "    </tr>\n",
       "    <tr>\n",
       "      <th>25%</th>\n",
       "      <td>0.00000</td>\n",
       "      <td>1.000000</td>\n",
       "      <td>1.000000</td>\n",
       "      <td>0.000000</td>\n",
       "      <td>1.000000</td>\n",
       "      <td>0.000000</td>\n",
       "      <td>0.000000</td>\n",
       "      <td>1.000000</td>\n",
       "      <td>0.000000</td>\n",
       "      <td>0.000000</td>\n",
       "      <td>0.000000</td>\n",
       "      <td>0.000000</td>\n",
       "      <td>1.000000</td>\n",
       "      <td>0.000000</td>\n",
       "      <td>0.000000</td>\n",
       "    </tr>\n",
       "    <tr>\n",
       "      <th>50%</th>\n",
       "      <td>1.00000</td>\n",
       "      <td>1.000000</td>\n",
       "      <td>1.000000</td>\n",
       "      <td>1.000000</td>\n",
       "      <td>1.000000</td>\n",
       "      <td>1.000000</td>\n",
       "      <td>1.000000</td>\n",
       "      <td>1.000000</td>\n",
       "      <td>1.000000</td>\n",
       "      <td>1.000000</td>\n",
       "      <td>0.000000</td>\n",
       "      <td>1.000000</td>\n",
       "      <td>1.000000</td>\n",
       "      <td>0.000000</td>\n",
       "      <td>0.000000</td>\n",
       "    </tr>\n",
       "    <tr>\n",
       "      <th>75%</th>\n",
       "      <td>1.00000</td>\n",
       "      <td>1.000000</td>\n",
       "      <td>1.000000</td>\n",
       "      <td>1.000000</td>\n",
       "      <td>1.000000</td>\n",
       "      <td>1.000000</td>\n",
       "      <td>1.000000</td>\n",
       "      <td>1.000000</td>\n",
       "      <td>1.000000</td>\n",
       "      <td>1.000000</td>\n",
       "      <td>1.000000</td>\n",
       "      <td>1.000000</td>\n",
       "      <td>1.000000</td>\n",
       "      <td>0.000000</td>\n",
       "      <td>0.000000</td>\n",
       "    </tr>\n",
       "    <tr>\n",
       "      <th>max</th>\n",
       "      <td>1.00000</td>\n",
       "      <td>1.000000</td>\n",
       "      <td>1.000000</td>\n",
       "      <td>1.000000</td>\n",
       "      <td>1.000000</td>\n",
       "      <td>1.000000</td>\n",
       "      <td>1.000000</td>\n",
       "      <td>1.000000</td>\n",
       "      <td>1.000000</td>\n",
       "      <td>1.000000</td>\n",
       "      <td>1.000000</td>\n",
       "      <td>1.000000</td>\n",
       "      <td>1.000000</td>\n",
       "      <td>1.000000</td>\n",
       "      <td>1.000000</td>\n",
       "    </tr>\n",
       "  </tbody>\n",
       "</table>\n",
       "</div>"
      ],
      "text/plain": [
       "          Q18_01      Q18_02      Q18_03      Q18_04      Q18_05      Q18_06  \\\n",
       "count  565.00000  565.000000  565.000000  565.000000  565.000000  565.000000   \n",
       "mean     0.60885    0.851327    0.920354    0.543363    0.817699    0.727434   \n",
       "std      0.48844    0.356081    0.270984    0.498558    0.386434    0.445674   \n",
       "min      0.00000    0.000000    0.000000    0.000000    0.000000    0.000000   \n",
       "25%      0.00000    1.000000    1.000000    0.000000    1.000000    0.000000   \n",
       "50%      1.00000    1.000000    1.000000    1.000000    1.000000    1.000000   \n",
       "75%      1.00000    1.000000    1.000000    1.000000    1.000000    1.000000   \n",
       "max      1.00000    1.000000    1.000000    1.000000    1.000000    1.000000   \n",
       "\n",
       "           Q18_07      Q18_08      Q18_09      Q18_10      Q18_11      Q18_12  \\\n",
       "count  565.000000  565.000000  565.000000  565.000000  565.000000  565.000000   \n",
       "mean     0.681416    0.761062    0.561062    0.543363    0.392920    0.704425   \n",
       "std      0.466340    0.426813    0.496697    0.498558    0.488832    0.456705   \n",
       "min      0.000000    0.000000    0.000000    0.000000    0.000000    0.000000   \n",
       "25%      0.000000    1.000000    0.000000    0.000000    0.000000    0.000000   \n",
       "50%      1.000000    1.000000    1.000000    1.000000    0.000000    1.000000   \n",
       "75%      1.000000    1.000000    1.000000    1.000000    1.000000    1.000000   \n",
       "max      1.000000    1.000000    1.000000    1.000000    1.000000    1.000000   \n",
       "\n",
       "           Q18_13      Q18_19      Q18_20  \n",
       "count  565.000000  565.000000  565.000000  \n",
       "mean     0.837168    0.015929    0.019469  \n",
       "std      0.369539    0.125313    0.138289  \n",
       "min      0.000000    0.000000    0.000000  \n",
       "25%      1.000000    0.000000    0.000000  \n",
       "50%      1.000000    0.000000    0.000000  \n",
       "75%      1.000000    0.000000    0.000000  \n",
       "max      1.000000    1.000000    1.000000  "
      ]
     },
     "execution_count": 13,
     "metadata": {},
     "output_type": "execute_result"
    }
   ],
   "source": [
    "#drop don't know and refuse columns and then set column Q18 to equal the sum across rows for Q18 variables\n",
    "clean_nh_data['Q18']=clean_nh_data[q19_col_names].drop(columns=['Q18_19','Q18_20']).sum(axis = 1, skipna = False) \n",
    "#plt.hist(clean_nh_data.Q18.dropna(),bins=15)\n",
    "clean_nh_data[['Q18_01',\n",
    " 'Q18_02',\n",
    " 'Q18_03',\n",
    " 'Q18_04',\n",
    " 'Q18_05',\n",
    " 'Q18_06',\n",
    " 'Q18_07',\n",
    " 'Q18_08',\n",
    " 'Q18_09',\n",
    " 'Q18_10',\n",
    " 'Q18_11',\n",
    " 'Q18_12',\n",
    " 'Q18_13',\n",
    " 'Q18_19',\n",
    " 'Q18_20']].describe()"
   ]
  },
  {
   "cell_type": "code",
   "execution_count": 14,
   "metadata": {},
   "outputs": [
    {
     "data": {
      "text/plain": [
       "count    565.000000\n",
       "mean       8.950442\n",
       "std        3.558680\n",
       "min        0.000000\n",
       "25%        7.000000\n",
       "50%       10.000000\n",
       "75%       12.000000\n",
       "max       13.000000\n",
       "Name: Q18, dtype: float64"
      ]
     },
     "execution_count": 14,
     "metadata": {},
     "output_type": "execute_result"
    },
    {
     "data": {
      "image/png": "[encoded data removed]",
      "text/plain": [
       "<Figure size 432x288 with 1 Axes>"
      ]
     },
     "metadata": {
      "needs_background": "light"
     },
     "output_type": "display_data"
    }
   ],
   "source": [
    "#set new binary column, less than median/median or greater\n",
    "\n",
    "clean_nh_data['Q18_m'] = np.where(clean_nh_data['Q18'] >= 10,1,0)\n",
    "clean_nh_data.loc[clean_nh_data['Q18'].isna(), 'Q18_m'] = np.nan\n",
    "plt.hist(clean_nh_data.Q18.dropna(),bins=14)\n",
    "clean_nh_data['Q18'].describe()"
   ]
  },
  {
   "cell_type": "code",
   "execution_count": 15,
   "metadata": {},
   "outputs": [],
   "source": [
    "outcome_col_names.append('Q18_m')\n",
    "#q18_m added to outcome_col_names list"
   ]
  },
  {
   "cell_type": "markdown",
   "metadata": {},
   "source": [
    "### Describe outcome variables"
   ]
  },
  {
   "cell_type": "code",
   "execution_count": 16,
   "metadata": {},
   "outputs": [
    {
     "data": {
      "text/html": [
       "<div>\n",
       "<style scoped>\n",
       "    .dataframe tbody tr th:only-of-type {\n",
       "        vertical-align: middle;\n",
       "    }\n",
       "\n",
       "    .dataframe tbody tr th {\n",
       "        vertical-align: top;\n",
       "    }\n",
       "\n",
       "    .dataframe thead th {\n",
       "        text-align: right;\n",
       "    }\n",
       "</style>\n",
       "<table border=\"1\" class=\"dataframe\">\n",
       "  <thead>\n",
       "    <tr style=\"text-align: right;\">\n",
       "      <th></th>\n",
       "      <th>q15</th>\n",
       "      <th>q19</th>\n",
       "      <th>q20</th>\n",
       "      <th>Q16_a</th>\n",
       "      <th>Q17_a</th>\n",
       "      <th>Q18_m</th>\n",
       "    </tr>\n",
       "  </thead>\n",
       "  <tbody>\n",
       "    <tr>\n",
       "      <th>count</th>\n",
       "      <td>565.000000</td>\n",
       "      <td>565.000000</td>\n",
       "      <td>565.000000</td>\n",
       "      <td>416.000000</td>\n",
       "      <td>420.000000</td>\n",
       "      <td>565.000000</td>\n",
       "    </tr>\n",
       "    <tr>\n",
       "      <th>mean</th>\n",
       "      <td>0.766372</td>\n",
       "      <td>0.654867</td>\n",
       "      <td>0.584071</td>\n",
       "      <td>0.737981</td>\n",
       "      <td>0.542857</td>\n",
       "      <td>0.527434</td>\n",
       "    </tr>\n",
       "    <tr>\n",
       "      <th>std</th>\n",
       "      <td>0.423513</td>\n",
       "      <td>0.475833</td>\n",
       "      <td>0.493318</td>\n",
       "      <td>0.440263</td>\n",
       "      <td>0.498754</td>\n",
       "      <td>0.499689</td>\n",
       "    </tr>\n",
       "    <tr>\n",
       "      <th>min</th>\n",
       "      <td>0.000000</td>\n",
       "      <td>0.000000</td>\n",
       "      <td>0.000000</td>\n",
       "      <td>0.000000</td>\n",
       "      <td>0.000000</td>\n",
       "      <td>0.000000</td>\n",
       "    </tr>\n",
       "    <tr>\n",
       "      <th>25%</th>\n",
       "      <td>1.000000</td>\n",
       "      <td>0.000000</td>\n",
       "      <td>0.000000</td>\n",
       "      <td>0.000000</td>\n",
       "      <td>0.000000</td>\n",
       "      <td>0.000000</td>\n",
       "    </tr>\n",
       "    <tr>\n",
       "      <th>50%</th>\n",
       "      <td>1.000000</td>\n",
       "      <td>1.000000</td>\n",
       "      <td>1.000000</td>\n",
       "      <td>1.000000</td>\n",
       "      <td>1.000000</td>\n",
       "      <td>1.000000</td>\n",
       "    </tr>\n",
       "    <tr>\n",
       "      <th>75%</th>\n",
       "      <td>1.000000</td>\n",
       "      <td>1.000000</td>\n",
       "      <td>1.000000</td>\n",
       "      <td>1.000000</td>\n",
       "      <td>1.000000</td>\n",
       "      <td>1.000000</td>\n",
       "    </tr>\n",
       "    <tr>\n",
       "      <th>max</th>\n",
       "      <td>1.000000</td>\n",
       "      <td>1.000000</td>\n",
       "      <td>1.000000</td>\n",
       "      <td>1.000000</td>\n",
       "      <td>1.000000</td>\n",
       "      <td>1.000000</td>\n",
       "    </tr>\n",
       "  </tbody>\n",
       "</table>\n",
       "</div>"
      ],
      "text/plain": [
       "              q15         q19         q20       Q16_a       Q17_a       Q18_m\n",
       "count  565.000000  565.000000  565.000000  416.000000  420.000000  565.000000\n",
       "mean     0.766372    0.654867    0.584071    0.737981    0.542857    0.527434\n",
       "std      0.423513    0.475833    0.493318    0.440263    0.498754    0.499689\n",
       "min      0.000000    0.000000    0.000000    0.000000    0.000000    0.000000\n",
       "25%      1.000000    0.000000    0.000000    0.000000    0.000000    0.000000\n",
       "50%      1.000000    1.000000    1.000000    1.000000    1.000000    1.000000\n",
       "75%      1.000000    1.000000    1.000000    1.000000    1.000000    1.000000\n",
       "max      1.000000    1.000000    1.000000    1.000000    1.000000    1.000000"
      ]
     },
     "execution_count": 16,
     "metadata": {},
     "output_type": "execute_result"
    }
   ],
   "source": [
    "\n",
    "clean_nh_data[outcome_col_names].describe()"
   ]
  },
  {
   "cell_type": "markdown",
   "metadata": {},
   "source": [
    "# Engagement Indicator \n",
    "Sum questions to Q16, Q17, Q18, Q19, Q20, and Q21"
   ]
  },
  {
   "cell_type": "code",
   "execution_count": null,
   "metadata": {},
   "outputs": [],
   "source": []
  },
  {
   "cell_type": "code",
   "execution_count": 17,
   "metadata": {},
   "outputs": [],
   "source": [
    "clean_nh_data['out_sum']=clean_nh_data[outcome_col_names].sum(axis = 1, skipna = True)"
   ]
  },
  {
   "cell_type": "code",
   "execution_count": 18,
   "metadata": {},
   "outputs": [
    {
     "data": {
      "text/plain": [
       "count    800.000000\n",
       "mean       1.500000\n",
       "std        0.500313\n",
       "min        1.000000\n",
       "25%        1.000000\n",
       "50%        1.500000\n",
       "75%        2.000000\n",
       "max        2.000000\n",
       "Name: qio, dtype: float64"
      ]
     },
     "execution_count": 18,
     "metadata": {},
     "output_type": "execute_result"
    }
   ],
   "source": [
    "clean_nh_data['qio'].describe()"
   ]
  },
  {
   "cell_type": "code",
   "execution_count": 19,
   "metadata": {},
   "outputs": [
    {
     "data": {
      "text/plain": [
       "count    800.000000\n",
       "mean       2.457500\n",
       "std        2.233703\n",
       "min        0.000000\n",
       "25%        0.000000\n",
       "50%        2.000000\n",
       "75%        5.000000\n",
       "max        6.000000\n",
       "Name: out_sum, dtype: float64"
      ]
     },
     "execution_count": 19,
     "metadata": {},
     "output_type": "execute_result"
    }
   ],
   "source": [
    "clean_nh_data['out_sum'].describe()"
   ]
  },
  {
   "cell_type": "code",
   "execution_count": 20,
   "metadata": {},
   "outputs": [
    {
     "data": {
      "text/plain": [
       "0.0    285\n",
       "1.0     54\n",
       "2.0     64\n",
       "3.0    101\n",
       "4.0     94\n",
       "5.0    107\n",
       "6.0     95\n",
       "Name: out_sum, dtype: int64"
      ]
     },
     "execution_count": 20,
     "metadata": {},
     "output_type": "execute_result"
    }
   ],
   "source": [
    "clean_nh_data['out_sum'].value_counts().sort_index()"
   ]
  },
  {
   "cell_type": "code",
   "execution_count": 21,
   "metadata": {},
   "outputs": [],
   "source": [
    "clean_nh_data['IEC_engagement'] = clean_nh_data['out_sum']\n",
    "clean_nh_data['IEC_engagement'] = clean_nh_data['IEC_engagement'].replace(2, 1)\n",
    "clean_nh_data['IEC_engagement'] = clean_nh_data['IEC_engagement'].replace(3, 2)\n",
    "clean_nh_data['IEC_engagement'] = clean_nh_data['IEC_engagement'].replace(4, 2)\n",
    "clean_nh_data['IEC_engagement'] = clean_nh_data['IEC_engagement'].replace(5, 3)\n",
    "clean_nh_data['IEC_engagement'] = clean_nh_data['IEC_engagement'].replace(6, 3)"
   ]
  },
  {
   "cell_type": "code",
   "execution_count": 22,
   "metadata": {},
   "outputs": [
    {
     "data": {
      "text/html": [
       "<div>\n",
       "<style scoped>\n",
       "    .dataframe tbody tr th:only-of-type {\n",
       "        vertical-align: middle;\n",
       "    }\n",
       "\n",
       "    .dataframe tbody tr th {\n",
       "        vertical-align: top;\n",
       "    }\n",
       "\n",
       "    .dataframe thead th {\n",
       "        text-align: right;\n",
       "    }\n",
       "</style>\n",
       "<table border=\"1\" class=\"dataframe\">\n",
       "  <thead>\n",
       "    <tr style=\"text-align: right;\">\n",
       "      <th>qio</th>\n",
       "      <th>1.0</th>\n",
       "      <th>2.0</th>\n",
       "    </tr>\n",
       "    <tr>\n",
       "      <th>IEC_engagement</th>\n",
       "      <th></th>\n",
       "      <th></th>\n",
       "    </tr>\n",
       "  </thead>\n",
       "  <tbody>\n",
       "    <tr>\n",
       "      <th>0.0</th>\n",
       "      <td>188</td>\n",
       "      <td>97</td>\n",
       "    </tr>\n",
       "    <tr>\n",
       "      <th>1.0</th>\n",
       "      <td>65</td>\n",
       "      <td>53</td>\n",
       "    </tr>\n",
       "    <tr>\n",
       "      <th>2.0</th>\n",
       "      <td>86</td>\n",
       "      <td>109</td>\n",
       "    </tr>\n",
       "    <tr>\n",
       "      <th>3.0</th>\n",
       "      <td>61</td>\n",
       "      <td>141</td>\n",
       "    </tr>\n",
       "  </tbody>\n",
       "</table>\n",
       "</div>"
      ],
      "text/plain": [
       "qio             1.0  2.0\n",
       "IEC_engagement          \n",
       "0.0             188   97\n",
       "1.0              65   53\n",
       "2.0              86  109\n",
       "3.0              61  141"
      ]
     },
     "execution_count": 22,
     "metadata": {},
     "output_type": "execute_result"
    }
   ],
   "source": [
    "pd.crosstab(clean_nh_data['IEC_engagement'],clean_nh_data['qio'])\n"
   ]
  },
  {
   "cell_type": "code",
   "execution_count": 23,
   "metadata": {},
   "outputs": [],
   "source": [
    "#285, 118, 195, 202"
   ]
  },
  {
   "cell_type": "code",
   "execution_count": null,
   "metadata": {},
   "outputs": [],
   "source": []
  }
 ],
 "metadata": {
  "kernelspec": {
   "display_name": "Python 3",
   "language": "python",
   "name": "python3"
  },
  "language_info": {
   "codemirror_mode": {
    "name": "ipython",
    "version": 3
   },
   "file_extension": ".py",
   "mimetype": "text/x-python",
   "name": "python",
   "nbconvert_exporter": "python",
   "pygments_lexer": "ipython3",
   "version": "3.7.3"
  }
 },
 "nbformat": 4,
 "nbformat_minor": 2
}
